{
 "cells": [
  {
   "cell_type": "markdown",
   "id": "ec35f83a",
   "metadata": {},
   "source": [
    "Rainfall Prediction is the application of science and technology to predict the amount of rainfall over a region. \n",
    "The dataset used for this purpose is the 'average rainfall in UK(2010-2019)'. This dataset was imported from kaggle."
   ]
  },
  {
   "cell_type": "markdown",
   "id": "2715c33d",
   "metadata": {},
   "source": [
    "## Importing dataset"
   ]
  },
  {
   "cell_type": "markdown",
   "id": "6386421e",
   "metadata": {},
   "source": [
    "The dataset consists of average rainfall in millimeters by year,month and season."
   ]
  },
  {
   "cell_type": "code",
   "execution_count": 1,
   "id": "d16262e5",
   "metadata": {},
   "outputs": [],
   "source": [
    "import requests\n",
    "import pandas as pd\n",
    "import numpy as np\n",
    "\n",
    "data = pd.read_csv('avg_rainfall.csv')"
   ]
  },
  {
   "cell_type": "code",
   "execution_count": 2,
   "id": "048b0a22",
   "metadata": {},
   "outputs": [
    {
     "data": {
      "text/html": [
       "<div>\n",
       "<style scoped>\n",
       "    .dataframe tbody tr th:only-of-type {\n",
       "        vertical-align: middle;\n",
       "    }\n",
       "\n",
       "    .dataframe tbody tr th {\n",
       "        vertical-align: top;\n",
       "    }\n",
       "\n",
       "    .dataframe thead th {\n",
       "        text-align: right;\n",
       "    }\n",
       "</style>\n",
       "<table border=\"1\" class=\"dataframe\">\n",
       "  <thead>\n",
       "    <tr style=\"text-align: right;\">\n",
       "      <th></th>\n",
       "      <th>Year</th>\n",
       "      <th>Type of period</th>\n",
       "      <th>Period</th>\n",
       "      <th>Avg rainfall(in mm)</th>\n",
       "    </tr>\n",
       "  </thead>\n",
       "  <tbody>\n",
       "    <tr>\n",
       "      <th>0</th>\n",
       "      <td>2010</td>\n",
       "      <td>Monthly</td>\n",
       "      <td>JAN</td>\n",
       "      <td>69.5</td>\n",
       "    </tr>\n",
       "    <tr>\n",
       "      <th>1</th>\n",
       "      <td>2010</td>\n",
       "      <td>Monthly</td>\n",
       "      <td>FEB</td>\n",
       "      <td>71.7</td>\n",
       "    </tr>\n",
       "    <tr>\n",
       "      <th>2</th>\n",
       "      <td>2010</td>\n",
       "      <td>Monthly</td>\n",
       "      <td>MAR</td>\n",
       "      <td>65.1</td>\n",
       "    </tr>\n",
       "    <tr>\n",
       "      <th>3</th>\n",
       "      <td>2010</td>\n",
       "      <td>Monthly</td>\n",
       "      <td>APR</td>\n",
       "      <td>21.4</td>\n", 
       "    </tr>\n",
       "    <tr>\n",
       "      <th>4</th>\n",
       "      <td>2010</td>\n",
       "      <td>Monthly</td>\n",
       "      <td>MAY</td>\n",
       "      <td>22.1</td>\n",
       "    </tr>\n",
       "    <tr>\n",
       "      <th>...</th>\n",
       "      <td>...</td>\n",
       "      <td>...</td>\n",
       "      <td>...</td>\n",
       "      <td>...</td>\n",
       "    </tr>\n",
       "    <tr>\n",
       "      <th>165</th>\n",
       "      <td>2019</td>\n",
       "      <td>Season</td>\n",
       "      <td>Winter</td>\n",
       "      <td>130.4</td>\n",
       "    </tr>\n",
       "    <tr>\n",
       "      <th>166</th>\n",
       "      <td>2019</td>\n",
       "      <td>Season</td>\n",
       "      <td>Spring</td>\n",
       "      <td>162.1</td>\n",
       "    </tr>\n",
       "    <tr>\n",
       "      <th>167</th>\n",
       "      <td>2019</td>\n",
       "      <td>Season</td>\n",
       "      <td>Summer</td>\n",
       "      <td>279.0</td>\n",
       "    </tr>\n",
       "    <tr>\n",
       "      <th>168</th>\n",
       "      <td>2019</td>\n",
       "      <td>Season</td>\n",
       "      <td>Autumn</td>\n",
       "      <td>344.4</td>\n",
       "    </tr>\n",
       "    <tr>\n",
       "      <th>169</th>\n",
       "      <td>2019</td>\n",
       "      <td>Calendar Year</td>\n",
       "      <td>Annual</td>\n",
       "      <td>905.9</td>\n",
       "    </tr>\n",
       "  </tbody>\n",
       "</table>\n",
       "<p>170 rows × 4 columns</p>\n",
       "</div>"
      ],
      "text/plain": [
       "     Year Type of period  Period  Avg rainfall(in mm)\n",
       "0    2010        Monthly     JAN                 69.5\n",
       "1    2010        Monthly     FEB                 71.7\n",
       "2    2010        Monthly     MAR                 65.1\n",
       "3    2010        Monthly     APR                 21.4\n",
       "4    2010        Monthly     MAY                 22.1\n",
       "..    ...            ...     ...                  ...\n",
       "165  2019         Season  Winter                130.4\n",
       "166  2019         Season  Spring                162.1\n",
       "167  2019         Season  Summer                279.0\n",
       "168  2019         Season  Autumn                344.4\n",
       "169  2019  Calendar Year  Annual                905.9\n",
       "\n",
       "[170 rows x 4 columns]"
      ]
     },
     "execution_count": 2,
     "metadata": {},
     "output_type": "execute_result"
    }
   ],
   "source": [
    "data"
   ]
  },
  {
   "cell_type": "code",
   "execution_count": 3,
   "id": "0a545f47",
   "metadata": {},
   "outputs": [
    {
     "name": "stdout",
     "output_type": "stream",
     "text": [
      "<class 'pandas.core.frame.DataFrame'>\n",
      "RangeIndex: 170 entries, 0 to 169\n",
      "Data columns (total 4 columns):\n",
      " #   Column               Non-Null Count  Dtype  \n",
      "---  ------               --------------  -----  \n",
      " 0   Year                 170 non-null    int64  \n",
      " 1   Type of period       170 non-null    object \n",
      " 2   Period               170 non-null    object \n",
      " 3   Avg rainfall(in mm)  170 non-null    float64\n",
      "dtypes: float64(1), int64(1), object(2)\n",
      "memory usage: 5.4+ KB\n"
     ]
    }
   ],
   "source": [
    "data.info() #info() shows the type of data present and among them how much data is null/non-null."
   ]
  },
  {
   "cell_type": "code",
   "execution_count": 4,
   "id": "c53d5492",
   "metadata": {},
   "outputs": [
    {
     "data": {
      "text/html": [
       "<div>\n",
       "<style scoped>\n",
       "    .dataframe tbody tr th:only-of-type {\n",
       "        vertical-align: middle;\n",
       "    }\n",
       "\n",
       "    .dataframe tbody tr th {\n",
       "        vertical-align: top;\n",
       "    }\n",
       "\n",
       "    .dataframe thead th {\n",
       "        text-align: right;\n",
       "    }\n",
       "</style>\n",
       "<table border=\"1\" class=\"dataframe\">\n",
       "  <thead>\n",
       "    <tr style=\"text-align: right;\">\n",
       "      <th></th>\n",
       "      <th>Year</th>\n",
       "      <th>Avg rainfall(in mm)</th>\n",
       "    </tr>\n",
       "  </thead>\n",
       "  <tbody>\n",
       "    <tr>\n",
       "      <th>count</th>\n",
       "      <td>170.000000</td>\n",
       "      <td>170.000000</td>\n",
       "    </tr>\n",
       "    <tr>\n",
       "      <th>mean</th>\n",
       "      <td>2014.500000</td>\n",
       "      <td>140.540588</td>\n",
       "    </tr>\n",
       "    <tr>\n",
       "      <th>std</th>\n",
       "      <td>2.880767</td>\n",
       "      <td>179.608045</td>\n",
       "    </tr>\n",
       "    <tr>\n",
       "      <th>min</th>\n",
       "      <td>2010.000000</td>\n",
       "      <td>10.300000</td>\n",
       "    </tr>\n",
       "    <tr>\n",
       "      <th>25%</th>\n",
       "      <td>2012.000000</td>\n",
       "      <td>52.625000</td>\n",
       "    </tr>\n",
       "    <tr>\n",
       "      <th>50%</th>\n",
       "      <td>2014.500000</td>\n",
       "      <td>78.800000</td>\n",
       "    </tr>\n",
       "    <tr>\n",
       "      <th>75%</th>\n",
       "      <td>2017.000000</td>\n",
       "      <td>147.900000</td>\n",
       "    </tr>\n",
       "    <tr>\n",
       "      <th>max</th>\n",
       "      <td>2019.000000</td>\n",
       "      <td>1043.000000</td>\n",
       "    </tr>\n",
       "  </tbody>\n",
       "</table>\n",
       "</div>"
      ],
      "text/plain": [
       "              Year  Avg rainfall(in mm)\n",
       "count   170.000000           170.000000\n",
       "mean   2014.500000           140.540588\n",
       "std       2.880767           179.608045\n",
       "min    2010.000000            10.300000\n",
       "25%    2012.000000            52.625000\n",
       "50%    2014.500000            78.800000\n",
       "75%    2017.000000           147.900000\n",
       "max    2019.000000          1043.000000"
      ]
     },
     "execution_count": 4,
     "metadata": {},
     "output_type": "execute_result"
    }
   ],
   "source": [
    "data.describe() "
   ]
  },
  {
   "cell_type": "code",
   "execution_count": 7,
   "id": "175423f8",
   "metadata": {},
   "outputs": [],
   "source": [
    "X= data.iloc[:,0:3]\n",
    "Y= data.iloc[:,-1]"
   ]
  },
  {
   "cell_type": "markdown",
   "id": "aaec4c9d",
   "metadata": {},
   "source": [
    "Converting X and Y to numpy arrays for further processing"
   ]
  },
  {
   "cell_type": "code",
   "execution_count": 8,
   "id": "7d3f5874",
   "metadata": {},
   "outputs": [],
   "source": [
    "X=np.array(X)\n",
    "Y=np.array(Y)"
   ]
  },
  {
   "cell_type": "markdown",
   "id": "9121e20e",
   "metadata": {},
   "source": [
    "## Preprocessing the data using labelencoder"
   ]
  },
  {
   "cell_type": "markdown",
   "id": "82cb47e3",
   "metadata": {},
   "source": [
    "Labelencoder converts the categorical data into numeric types to normalize the data."
   ]
  },
  {
   "cell_type": "code",
   "execution_count": 9,
   "id": "a195ad52",
   "metadata": {},
   "outputs": [],
   "source": [
    "from sklearn.preprocessing import LabelEncoder\n",
    "labelencoder = LabelEncoder()\n",
    "X[:,1] = labelencoder.fit_transform(X[:,1])\n",
    "X[:,2] = labelencoder.fit_transform(X[:,2])"
   ]
  },
  {
   "cell_type": "markdown",
   "id": "1679cbee",
   "metadata": {},
   "source": [
    "## Splitting the dataset for training and testing"
   ]
  },
  {
   "cell_type": "code",
   "execution_count": 10,
   "id": "6896eb80",
   "metadata": {},
   "outputs": [],
   "source": [
    "from sklearn.model_selection import train_test_split\n",
    "X_train, X_test, y_train, y_test = train_test_split(X,Y,test_size = 0.3,random_state = 10)"
   ]
  },
  {
   "cell_type": "markdown",
   "id": "00845322",
   "metadata": {},
   "source": [
    "## Model Training"
   ]
  },
  {
   "cell_type": "markdown",
   "id": "eb7b6495",
   "metadata": {},
   "source": [
    "We have used the 'Random Forest Model' for the purpose of prediction. The random forest uses multiple decision trees and chooses the optimum result by selecting the majority. "
   ]
  },
  {
   "cell_type": "code",
   "execution_count": 12,
   "id": "707d7711",
   "metadata": {},
   "outputs": [
    {
     "data": {
      "text/plain": [
       "RandomForestRegressor(n_estimators=800, random_state=0)"
      ]
     },
     "execution_count": 12,
     "metadata": {},
     "output_type": "execute_result"
    }
   ],
   "source": [
    "from sklearn.ensemble import RandomForestRegressor\n",
    "random_forest_model = RandomForestRegressor(n_estimators=800,random_state=0)\n",
    "random_forest_model.fit(X_train, y_train)"
   ]
  },
  {
   "cell_type": "code",
   "execution_count": 13,
   "id": "465a2c25",
   "metadata": {},
   "outputs": [],
   "source": [
    "y_train_predict=random_forest_model.predict(X_train)\n",
    "y_test_predict=random_forest_model.predict(X_test)"
   ]
  },
  {
   "cell_type": "markdown",
   "id": "ff699cef",
   "metadata": {},
   "source": [
    "## Plotting predicted vs actual values"
   ]
  },
  {
   "cell_type": "code",
   "execution_count": 14,
   "id": "91be2163",
   "metadata": {},
   "outputs": [
    {
     "data": {
      "image/png": "[encoded data removed]",
      "text/plain": [
       "<Figure size 432x288 with 1 Axes>"
      ]
     },
     "metadata": {
      "needs_background": "light"
     },
     "output_type": "display_data"
    }
   ],
   "source": [
    "import matplotlib.pyplot as plt\n",
    "\n",
    "plt.plot(y_test,label='Actual')\n",
    "plt.plot(y_test_predict,label='Predicted',color='red')\n",
    "plt.legend()\n",
    "plt.xlabel('Test Size')\n",
    "plt.ylabel('Rainfall in mm')\n",
    "plt.title('Rainfall Prediction with Random Forest Regression')\n",
    "plt.show()"
   ]
  },
  {
   "cell_type": "markdown",
   "id": "cc129d92",
   "metadata": {},
   "source": [
    "## Metrics and Accuracy"
   ]
  },
  {
   "cell_type": "markdown",
   "id": "882af91b",
   "metadata": {},
   "source": [
    "Mean Absolute Error, Mean Squared Error and Root Mean Squared Error are the performance metrics that we have used to analyze our model."
   ]
  },
  {
   "cell_type": "code",
   "execution_count": 16,
   "id": "d08003a2",
   "metadata": {},
   "outputs": [
    {
     "name": "stdout",
     "output_type": "stream",
     "text": [
      "-------Test Data--------\n",
      "MAE: 34.92074509803927\n",
      "MSE: 2748.310146544118\n",
      "RMSE: 52.424327812038925\n",
      "\n",
      "-------Train Data--------\n",
      "MAE: 15.566118697478712\n",
      "MSE: 521.1404569869912\n",
      "RMSE: 22.828500979849537\n"
     ]
    }
   ],
   "source": [
    "from sklearn import metrics\n",
    "\n",
    "print(\"-------Test Data--------\")\n",
    "print('MAE:', metrics.mean_absolute_error(y_test, y_test_predict))\n",
    "print('MSE:', metrics.mean_squared_error(y_test, y_test_predict))\n",
    "print('RMSE:', np.sqrt(metrics.mean_squared_error(y_test, y_test_predict)))\n",
    "\n",
    "print(\"\\n-------Train Data--------\")\n",
    "print('MAE:', metrics.mean_absolute_error(y_train,y_train_predict))\n",
    "print('MSE:', metrics.mean_squared_error(y_train, y_train_predict))\n",
    "print('RMSE:', np.sqrt(metrics.mean_squared_error(y_train, y_train_predict)))"
   ]
  },
  {
   "cell_type": "code",
   "execution_count": 17,
   "id": "7a79b74b",
   "metadata": {},
   "outputs": [
    {
     "name": "stdout",
     "output_type": "stream",
     "text": [
      "Training Accuracy\n",
      "98.6\n",
      "Testing Accuracy\n",
      "86.0\n"
     ]
    }
   ],
   "source": [
    "print(\"Training Accuracy\")\n",
    "print(round(random_forest_model.score(X_train,y_train),3)*100)\n",
    "print(\"Testing Accuracy\")\n",
    "print(round(random_forest_model.score(X_test,y_test),3)*100)"
   ]
  },
  {
   "cell_type": "markdown",
   "id": "2cf7251f",
   "metadata": {},
   "source": [
    "## Predicting an input"
   ]
  },
  {
   "cell_type": "markdown",
   "id": "6a8853c9",
   "metadata": {},
   "source": [
    "To predict the rainfall we give an input of the year, peroid and month in numeric form."
   ]
  },
  {
   "cell_type": "code",
   "execution_count": 18,
   "id": "a7605a05",
   "metadata": {},
   "outputs": [
    {
     "data": {
      "text/plain": [
       "array([42.991875])"
      ]
     },
     "execution_count": 18,
     "metadata": {},
     "output_type": "execute_result"
    }
   ],
   "source": [
    "predicted = random_forest_model.predict([[2020,1,5]])\n",
    "predicted"
   ]
  },
  {
   "cell_type": "code",
   "execution_count": null,
   "id": "1f0ce27d",
   "metadata": {},
   "outputs": [],
   "source": []
  }
 ],
 "metadata": {
  "kernelspec": {
   "display_name": "Python 3",
   "language": "python",
   "name": "python3"
  },
  "language_info": {
   "codemirror_mode": {
    "name": "ipython",
    "version": 3
   },
   "file_extension": ".py",
   "mimetype": "text/x-python",
   "name": "python",
   "nbconvert_exporter": "python",
   "pygments_lexer": "ipython3",
   "version": "3.8.8"
  }
 },
 "nbformat": 4,
 "nbformat_minor": 5
}
